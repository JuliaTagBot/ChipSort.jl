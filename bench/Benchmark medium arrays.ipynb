{
 "cells": [
  {
   "cell_type": "code",
   "execution_count": 7,
   "metadata": {},
   "outputs": [],
   "source": [
    "using BenchmarkTools\n",
    "using Unrolled\n",
    "\n",
    "using SIMD\n",
    "\n",
    "using ChipSort"
   ]
  },
  {
   "cell_type": "code",
   "execution_count": 8,
   "metadata": {},
   "outputs": [
    {
     "data": {
      "text/plain": [
       "run_bench_base (generic function with 1 method)"
      ]
     },
     "execution_count": 8,
     "metadata": {},
     "output_type": "execute_result"
    }
   ],
   "source": [
    "function run_bench_mine(T, chunks, ::Val{N}, ::Val{L}) where {N, L}\n",
    "    data = rand(T, chunks*N*L)\n",
    "    stat = @benchmark chipsort_medium($data, Val($N), Val($L))\n",
    "    stat\n",
    "end\n",
    "\n",
    "function run_bench_base(T, chunks, ::Val{N}, ::Val{L}) where {N, L}\n",
    "    data = rand(T, chunks*N*L)\n",
    "    stat = @benchmark sort($data)\n",
    "    stat\n",
    "end"
   ]
  },
  {
   "cell_type": "code",
   "execution_count": null,
   "metadata": {},
   "outputs": [
    {
     "name": "stdout",
     "output_type": "stream",
     "text": [
      "chip Float32 16 8 8 80679.0\n",
      "juli Float32 16 8 8 20025.0\n",
      "chip Float32 16 8 4 59059.0\n",
      "juli Float32 16 8 4 4156.285714285715\n",
      "chip Float32 16 8 2 52476.0\n",
      "juli Float32 16 8 2 2052.5\n",
      "chip Float32 16 4 8 58692.0\n",
      "juli Float32 16 4 8 4275.571428571428\n",
      "chip Float32 16 4 4 50782.0\n",
      "juli Float32 16 4 4 2079.6\n",
      "chip Float32 16 4 2 49593.0\n",
      "juli Float32 16 4 2 837.9230769230769\n",
      "chip Float32 16 2 8 55177.0\n",
      "juli Float32 16 2 8 2096.6\n",
      "chip Float32 16 2 4 49431.0\n",
      "juli Float32 16 2 4 862.2608695652174\n",
      "chip Float32 16 2 2 48473.0\n",
      "juli Float32 16 2 2 371.9178743961353\n",
      "chip Float32 8 8 8 27685.0\n",
      "juli Float32 8 8 8 4318.285714285715\n",
      "chip Float32 8 8 4 23871.0\n",
      "juli Float32 8 8 4 2072.6\n",
      "chip Float32 8 8 2 24108.0\n",
      "juli Float32 8 8 2 847.9855072463768\n",
      "chip Float32 8 4 8 23594.0\n",
      "juli Float32 8 4 8 2049.9\n",
      "chip Float32 8 4 4 22674.0\n",
      "juli Float32 8 4 4 832.2278481012659\n",
      "chip Float32 8 4 2 24909.0\n"
     ]
    }
   ],
   "source": [
    "struct ExpRun\n",
    "    code\n",
    "    eltype\n",
    "    data_size\n",
    "    vec_size\n",
    "    vec_count\n",
    "    bench\n",
    "end\n",
    "\n",
    "function Base.show(io::IO, ee::ExpRun)\n",
    "    print(ee.code, \" \")\n",
    "    print(ee.eltype, \" \")\n",
    "    print(ee.data_size, \" \")\n",
    "    print(ee.vec_size, \" \")\n",
    "    print(ee.vec_count, \" \")\n",
    "    print(ee.bench.times[div(end,2)])\n",
    "end\n",
    "\n",
    "@unroll function run_tests(data_size, nn, ll)\n",
    "    exps = ExpRun[]\n",
    "    T = Float32\n",
    "    \n",
    "    @unroll for cs in data_size\n",
    "    @unroll for n in nn\n",
    "        @unroll for l in ll\n",
    "            tt = run_bench_mine(T, cs, Val(n), Val(l))\n",
    "            ee = ExpRun(:chip, T, cs, n, l, tt)\n",
    "            println(ee)\n",
    "            push!(exps, ee)\n",
    "            tt = run_bench_base(T, cs, Val(n), Val(l))\n",
    "            ee = ExpRun(:juli, T, cs, n, l, tt)\n",
    "            println(ee)\n",
    "            push!(exps, ee)\n",
    "        end\n",
    "    end\n",
    "    end\n",
    "    exps\n",
    "end\n",
    "\n",
    "chunk_sizes = (16,8,4,2)\n",
    "N = (8,4,2)\n",
    "L = (8,4,2)\n",
    "\n",
    "data = run_tests(chunk_sizes, N, L)"
   ]
  },
  {
   "cell_type": "code",
   "execution_count": null,
   "metadata": {},
   "outputs": [],
   "source": []
  }
 ],
 "metadata": {
  "@webio": {
   "lastCommId": "db3ec83549224be2a1ffa667cfaf2082",
   "lastKernelId": "772af7a2-4a7e-4efb-b665-2cb5de9eadf1"
  },
  "kernelspec": {
   "display_name": "Julia 1.2.0-DEV",
   "language": "julia",
   "name": "julia-1.2"
  },
  "language_info": {
   "file_extension": ".jl",
   "mimetype": "application/julia",
   "name": "julia",
   "version": "1.2.0"
  }
 },
 "nbformat": 4,
 "nbformat_minor": 2
}
